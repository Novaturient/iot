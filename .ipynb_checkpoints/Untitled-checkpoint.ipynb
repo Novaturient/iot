{
 "cells": [
  {
   "cell_type": "markdown",
   "metadata": {},
   "source": [
    "<h3>1. Import dependencies</h3>"
   ]
  },
  {
   "cell_type": "code",
   "execution_count": 8,
   "metadata": {},
   "outputs": [],
   "source": [
    "import requests\n",
    "from bs4 import BeautifulSoup as sp\n",
    "from selenium import webdriver\n",
    "from selenium.webdriver.chrome.options import Options"
   ]
  },
  {
   "cell_type": "code",
   "execution_count": 9,
   "metadata": {},
   "outputs": [],
   "source": [
    "from seleniumrequests import Chrome\n",
    "user= \"ascph2019\"\n",
    "pw= \"archibus2019\""
   ]
  },
  {
   "cell_type": "markdown",
   "metadata": {},
   "source": [
    "<h3>2. Access imonnit webpage </h3>"
   ]
  },
  {
   "cell_type": "code",
   "execution_count": 10,
   "metadata": {},
   "outputs": [],
   "source": [
    "chrome_options = Options()\n",
    "chrome_options.add_argument(\"--headless\")\n",
    "webdriver = Chrome(r'R:\\hackathon\\archibus-iot-master\\chromedriver.exe',options=chrome_options)\n",
    "webdriver.get('https://www.imonnit.com/Account/LogonOV?ReturnUrl=/')"
   ]
  },
  {
   "cell_type": "markdown",
   "metadata": {},
   "source": [
    "<h3>3. Log-in as ascph2019 on imonnit </h3>"
   ]
  },
  {
   "cell_type": "code",
   "execution_count": 11,
   "metadata": {},
   "outputs": [],
   "source": [
    "uname = webdriver.find_element_by_name(\"UserName\")\n",
    "pwd = webdriver.find_element_by_name(\"Password\")"
   ]
  },
  {
   "cell_type": "code",
   "execution_count": 12,
   "metadata": {},
   "outputs": [],
   "source": [
    "uname.send_keys(user)\n",
    "pwd.send_keys(pw)\n",
    "btn_xpath = '//*[@id=\"loginFormInside\"]/div[4]/input'\n",
    "login_btn = webdriver.find_element_by_xpath(btn_xpath)\n",
    "login_btn.click()"
   ]
  },
  {
   "cell_type": "markdown",
   "metadata": {},
   "source": [
    "<h3>4. Get historical data from imonnit sensor that was specified </h3>"
   ]
  },
  {
   "cell_type": "code",
   "execution_count": 15,
   "metadata": {},
   "outputs": [],
   "source": [
    "ids = [\"488933\"] #Add more sensor ids as you please. comma delimited.\n",
    "dictionaryOfData = {}\n",
    "\n",
    "for ID in ids:\n",
    "    url = f\"https://www.imonnit.com/Overview/SensorHistoryData?sensorID={ID}\"\n",
    "    r = webdriver.request('GET',url)\n",
    "    soup = sp(r.content)\n",
    "    dates = soup.find_all('div',{\"class\":[\"historyDate\"]})\n",
    "    values = soup.find_all('div',{\"class\":[\"historyReading\"]})\n",
    "    \n",
    "    # Get text only\n",
    "    formatDate = list(map(lambda x: x.text,dates))\n",
    "    formatValue = list(map(lambda x: x.text,values))\n",
    "    \n",
    "    a=list(zip(formatDate,formatValue))\n",
    "    \n",
    "    # Save to dictionary using id as key and a (array) as value\n",
    "    dictionaryOfData[ID] = a\n",
    "    "
   ]
  },
  {
   "cell_type": "code",
   "execution_count": 18,
   "metadata": {
    "scrolled": true
   },
   "outputs": [
    {
     "data": {
      "text/plain": [
       "[('05/20/2019 4:32 PM', '26.5° C'),\n",
       " ('05/20/2019 4:22 PM', '26.4° C'),\n",
       " ('05/20/2019 4:12 PM', '26.3° C'),\n",
       " ('05/20/2019 4:02 PM', '26.3° C'),\n",
       " ('05/20/2019 3:52 PM', '26.5° C'),\n",
       " ('05/20/2019 3:42 PM', '26.5° C'),\n",
       " ('05/20/2019 3:32 PM', '26.5° C'),\n",
       " ('05/20/2019 3:22 PM', '26.7° C'),\n",
       " ('05/20/2019 3:12 PM', '26.7° C'),\n",
       " ('05/20/2019 3:02 PM', '26.7° C'),\n",
       " ('05/20/2019 2:52 PM', '26.7° C'),\n",
       " ('05/20/2019 2:42 PM', '26.6° C'),\n",
       " ('05/20/2019 2:32 PM', '26.7° C'),\n",
       " ('05/20/2019 2:22 PM', '26.7° C'),\n",
       " ('05/20/2019 2:12 PM', '26.7° C'),\n",
       " ('05/20/2019 2:02 PM', '26.7° C'),\n",
       " ('05/20/2019 1:52 PM', '26.6° C'),\n",
       " ('05/20/2019 1:42 PM', '26.5° C'),\n",
       " ('05/20/2019 1:32 PM', '26.5° C'),\n",
       " ('05/20/2019 1:22 PM', '26.4° C'),\n",
       " ('05/20/2019 1:12 PM', '25.9° C'),\n",
       " ('05/20/2019 1:02 PM', '24.7° C'),\n",
       " ('05/20/2019 12:52 PM', '24.7° C'),\n",
       " ('05/20/2019 12:42 PM', '24.6° C'),\n",
       " ('05/20/2019 12:32 PM', '24.7° C'),\n",
       " ('05/20/2019 12:22 PM', '24.6° C'),\n",
       " ('05/20/2019 12:12 PM', '24.5° C'),\n",
       " ('05/20/2019 12:02 PM', '24.6° C'),\n",
       " ('05/20/2019 11:52 AM', '24.7° C'),\n",
       " ('05/20/2019 11:42 AM', '24.7° C'),\n",
       " ('05/20/2019 11:32 AM', '24.6° C'),\n",
       " ('05/20/2019 11:22 AM', '24.6° C'),\n",
       " ('05/20/2019 11:12 AM', '24.6° C'),\n",
       " ('05/20/2019 11:02 AM', '24.6° C'),\n",
       " ('05/20/2019 10:52 AM', '24.5° C'),\n",
       " ('05/20/2019 10:42 AM', '24.5° C'),\n",
       " ('05/20/2019 10:32 AM', '24.5° C'),\n",
       " ('05/20/2019 10:22 AM', '24.5° C'),\n",
       " ('05/20/2019 10:12 AM', '24.6° C'),\n",
       " ('05/20/2019 10:02 AM', '24.7° C'),\n",
       " ('05/20/2019 9:52 AM', '24.9° C'),\n",
       " ('05/20/2019 9:52 AM', '24.9° C'),\n",
       " ('05/20/2019 9:51 AM', '24.9° C'),\n",
       " ('05/20/2019 9:51 AM', '24.9° C'),\n",
       " ('05/17/2019 5:27 PM', '22.7° C'),\n",
       " ('05/17/2019 5:17 PM', '22.7° C'),\n",
       " ('05/17/2019 5:07 PM', '22.7° C'),\n",
       " ('05/17/2019 4:57 PM', '22.8° C'),\n",
       " ('05/17/2019 4:47 PM', '22.9° C'),\n",
       " ('05/17/2019 4:37 PM', '22.8° C'),\n",
       " ('05/17/2019 4:27 PM', '22.8° C'),\n",
       " ('05/17/2019 4:17 PM', '22.9° C'),\n",
       " ('05/17/2019 4:07 PM', '22.9° C'),\n",
       " ('05/17/2019 3:57 PM', '23° C'),\n",
       " ('05/17/2019 3:47 PM', '23.1° C'),\n",
       " ('05/17/2019 3:37 PM', '23° C'),\n",
       " ('05/17/2019 3:27 PM', '22.9° C'),\n",
       " ('05/17/2019 3:17 PM', '23.1° C'),\n",
       " ('05/17/2019 3:07 PM', '23° C'),\n",
       " ('05/17/2019 2:57 PM', '22.9° C'),\n",
       " ('05/17/2019 2:48 PM', '22.8° C'),\n",
       " ('05/17/2019 2:38 PM', '22.8° C'),\n",
       " ('05/17/2019 2:28 PM', '22.9° C'),\n",
       " ('05/17/2019 2:18 PM', '23° C'),\n",
       " ('05/17/2019 2:08 PM', '22.9° C'),\n",
       " ('05/17/2019 1:58 PM', '22.9° C'),\n",
       " ('05/17/2019 1:48 PM', '22.8° C'),\n",
       " ('05/17/2019 1:38 PM', '22.8° C'),\n",
       " ('05/17/2019 1:28 PM', '22.9° C'),\n",
       " ('05/17/2019 1:18 PM', '24.3° C'),\n",
       " ('05/17/2019 1:08 PM', '25.4° C'),\n",
       " ('05/17/2019 12:58 PM', '25.3° C'),\n",
       " ('05/17/2019 12:48 PM', '25.5° C'),\n",
       " ('05/17/2019 12:38 PM', '25.7° C'),\n",
       " ('05/17/2019 12:28 PM', '25.8° C'),\n",
       " ('05/17/2019 12:18 PM', '26° C'),\n",
       " ('05/17/2019 12:08 PM', '26.2° C'),\n",
       " ('05/17/2019 11:58 AM', '26.4° C'),\n",
       " ('05/17/2019 11:48 AM', '26.5° C'),\n",
       " ('05/17/2019 11:38 AM', '26.6° C'),\n",
       " ('05/17/2019 11:28 AM', '26.7° C'),\n",
       " ('05/17/2019 11:18 AM', '26.7° C'),\n",
       " ('05/17/2019 11:08 AM', '26.6° C'),\n",
       " ('05/17/2019 10:58 AM', '26.7° C'),\n",
       " ('05/17/2019 10:48 AM', '26.8° C'),\n",
       " ('05/17/2019 10:38 AM', '26.7° C'),\n",
       " ('05/17/2019 10:28 AM', '26.6° C'),\n",
       " ('05/17/2019 10:18 AM', '26.5° C'),\n",
       " ('05/17/2019 10:17 AM', '26.5° C'),\n",
       " ('05/17/2019 10:17 AM', '26.5° C'),\n",
       " ('05/17/2019 10:16 AM', '26.5° C'),\n",
       " ('05/16/2019 6:09 PM', '26.4° C'),\n",
       " ('05/16/2019 5:59 PM', '26.7° C'),\n",
       " ('05/16/2019 5:49 PM', '26.7° C'),\n",
       " ('05/16/2019 5:39 PM', '26.2° C'),\n",
       " ('05/16/2019 5:29 PM', '26.2° C'),\n",
       " ('05/16/2019 5:19 PM', '26.2° C'),\n",
       " ('05/16/2019 5:09 PM', '26.2° C'),\n",
       " ('05/16/2019 4:59 PM', '26° C'),\n",
       " ('05/16/2019 4:49 PM', '26.1° C')]"
      ]
     },
     "execution_count": 18,
     "metadata": {},
     "output_type": "execute_result"
    }
   ],
   "source": [
    "dictionaryOfData[ID]"
   ]
  },
  {
   "cell_type": "markdown",
   "metadata": {},
   "source": [
    "<p>For now, when getting data every n minutes, we only need the latest data and or depending on the data currently present in the API server.</p>"
   ]
  },
  {
   "cell_type": "code",
   "execution_count": 16,
   "metadata": {},
   "outputs": [
    {
     "name": "stdout",
     "output_type": "stream",
     "text": [
      "('05/20/2019 4:32 PM', '26.5° C')\n"
     ]
    }
   ],
   "source": [
    "dataToSend = dictionaryOfData[\"488933\"][0] # This is the latest data,  zeroth indexed\n",
    "print(dataToSend)"
   ]
  },
  {
   "cell_type": "markdown",
   "metadata": {},
   "source": [
    "<h3>5. POST data to our API server </h3>"
   ]
  },
  {
   "cell_type": "code",
   "execution_count": 14,
   "metadata": {},
   "outputs": [],
   "source": [
    "apiUrl = \"http://192.168.0.16:8000/api/temperatures/\" #Change my IP here\n",
    "auth = (\"admin\",\"admin123\")"
   ]
  },
  {
   "cell_type": "code",
   "execution_count": 15,
   "metadata": {},
   "outputs": [],
   "source": [
    "data = {\"dateRead\":dataToSend[0],\"reading\":dataToSend[1]}"
   ]
  },
  {
   "cell_type": "code",
   "execution_count": 16,
   "metadata": {},
   "outputs": [],
   "source": [
    "r=requests.post(apiUrl,auth=auth,data=data) # POST method"
   ]
  },
  {
   "cell_type": "code",
   "execution_count": 17,
   "metadata": {},
   "outputs": [
    {
     "data": {
      "text/plain": [
       "<Response [200]>"
      ]
     },
     "execution_count": 17,
     "metadata": {},
     "output_type": "execute_result"
    }
   ],
   "source": [
    "r"
   ]
  },
  {
   "cell_type": "code",
   "execution_count": null,
   "metadata": {},
   "outputs": [],
   "source": []
  }
 ],
 "metadata": {
  "kernelspec": {
   "display_name": "Python 3",
   "language": "python",
   "name": "python3"
  },
  "language_info": {
   "codemirror_mode": {
    "name": "ipython",
    "version": 3
   },
   "file_extension": ".py",
   "mimetype": "text/x-python",
   "name": "python",
   "nbconvert_exporter": "python",
   "pygments_lexer": "ipython3",
   "version": "3.7.3"
  },
  "varInspector": {
   "cols": {
    "lenName": 16,
    "lenType": 16,
    "lenVar": 40
   },
   "kernels_config": {
    "python": {
     "delete_cmd_postfix": "",
     "delete_cmd_prefix": "del ",
     "library": "var_list.py",
     "varRefreshCmd": "print(var_dic_list())"
    },
    "r": {
     "delete_cmd_postfix": ") ",
     "delete_cmd_prefix": "rm(",
     "library": "var_list.r",
     "varRefreshCmd": "cat(var_dic_list()) "
    }
   },
   "types_to_exclude": [
    "module",
    "function",
    "builtin_function_or_method",
    "instance",
    "_Feature"
   ],
   "window_display": false
  }
 },
 "nbformat": 4,
 "nbformat_minor": 2
}
