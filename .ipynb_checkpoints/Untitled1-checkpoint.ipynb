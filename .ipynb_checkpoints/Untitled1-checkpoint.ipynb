{
 "cells": [
  {
   "cell_type": "code",
   "execution_count": 1,
   "metadata": {},
   "outputs": [],
   "source": [
    "import json\n",
    "import requests\n",
    "import time"
   ]
  },
  {
   "cell_type": "code",
   "execution_count": 2,
   "metadata": {},
   "outputs": [],
   "source": [
    "#Sensor List \n",
    "sIds = [488933, 488942, 488939]  #, \"488939\", \"488935\", \"488937\"] "
   ]
  },
  {
   "cell_type": "code",
   "execution_count": 3,
   "metadata": {},
   "outputs": [],
   "source": [
    "#Monnit REST API json url\n",
    "myurl = f\"https://www.imonnit.com/json/SensorDataMessages/YXNjcGgyMDE5OmFyY2hpYnVzMjAxOQ==?sensorID={sIds[0]}&fromDate=2019/05/28&toDate=2019/05/28\"\n",
    "\n",
    "myurl2 = f\"https://www.imonnit.com/json/SensorDataMessages/YXNjcGgyMDE5OmFyY2hpYnVzMjAxOQ==?sensorID={sIds[1]}&fromDate=2019/06/03&toDate=2019/06/03\"\n",
    "\n",
    "#print(myurl)\n"
   ]
  },
  {
   "cell_type": "code",
   "execution_count": 4,
   "metadata": {},
   "outputs": [
    {
     "name": "stdout",
     "output_type": "stream",
     "text": [
      "SensorDataMessages\n",
      "412dda9f-1512-4c8f-b0d2-d5c2b58add22\n"
     ]
    }
   ],
   "source": [
    "#r = requests.get(myurl)\n",
    "#data = requests.get(myurl).json()\n",
    "data = requests.get(myurl2).json()\n",
    "#data = r.json()\n",
    "result = data[\"Result\"]\n",
    "method = data[\"Method\"]\n",
    "print(method)\n",
    "print(result[0]['DataMessageGUID'])"
   ]
  },
  {
   "cell_type": "code",
   "execution_count": 79,
   "metadata": {},
   "outputs": [
    {
     "name": "stdout",
     "output_type": "stream",
     "text": [
      "488933\n",
      "488939\n"
     ]
    }
   ],
   "source": [
    "for item in sIds:\n",
    "    print(item)"
   ]
  },
  {
   "cell_type": "code",
   "execution_count": 5,
   "metadata": {},
   "outputs": [
    {
     "name": "stdout",
     "output_type": "stream",
     "text": [
      "/Date(1559539483000)/\n",
      "1559539483000\n",
      "2019-06-03 05:24:43\n"
     ]
    }
   ],
   "source": [
    "mydate = result[0]['MessageDate']\n",
    "print(mydate)\n",
    "\n",
    "def extract(s):\n",
    "    start = s.find('(')\n",
    "    start += 1\n",
    "    end = s.find(')', start)\n",
    "    return s[start:end]\n",
    "    \n",
    "b = extract(mydate)\n",
    "\n",
    "print(b)\n",
    "c = int(b,0)\n",
    "\n",
    "mydt = time.strftime('%Y-%m-%d %H:%M:%S',  time.gmtime(c/1000.))\n",
    "print(mydt)"
   ]
  },
  {
   "cell_type": "code",
   "execution_count": 6,
   "metadata": {},
   "outputs": [],
   "source": [
    "apiUrl = \"http://10.0.5.29:8000/api/sensor/\" #Change my IP here\n",
    "auth = (\"admin\",\"admin123\")"
   ]
  },
  {
   "cell_type": "code",
   "execution_count": 7,
   "metadata": {},
   "outputs": [],
   "source": [
    "for item in result:\n",
    "    #print(val)\n",
    "    def extract(s):\n",
    "        start = s.find('(')\n",
    "        start += 1\n",
    "        end = s.find(')', start)\n",
    "        return s[start:end]\n",
    "    #valdt = int(extract(item[\"MessageDate\"]),0)\n",
    "    valdt = time.strftime('%Y-%m-%d %H:%M:%S',  time.gmtime(int(extract(item[\"MessageDate\"]),0)/1000.))\n",
    "    #print(valdt)\n",
    "    \n",
    "    a = {\"DataMessageGUID\":item[\"DataMessageGUID\"],\"SensorID\":item[\"SensorID\"], \"MessageDate\":valdt, \"State\":item[\"State\"], \"SignalStrength\":item[\"SignalStrength\"], \"Voltage\":item[\"Voltage\"], \"Battery\":item[\"Battery\"],\"Data\":item[\"Data\"],\"DisplayData\":item[\"DisplayData\"],\"PlotValue\":item[\"PlotValue\"], \"MetNotificationRequirements\":item[\"MetNotificationRequirements\"],\"GatewayID\":item[\"GatewayID\"],\"DataValues\":item[\"DataValues\"],\"DataTypes\":item[\"DataTypes\"],\"PlotValues\":item[\"PlotValues\"],\"PlotLabels\":[\"PlotLabels\"]}\n",
    "    \n",
    "    try:\n",
    "        r=requests.post(apiUrl,auth=auth,data=a)\n",
    "    except:\n",
    "        print(\"hahaha\")\n",
    "    \n",
    "    #print(a)\n",
    "    "
   ]
  },
  {
   "cell_type": "code",
   "execution_count": 45,
   "metadata": {},
   "outputs": [
    {
     "name": "stdout",
     "output_type": "stream",
     "text": [
      "{'DataMessageGUID': '03c60c2c-78d6-4293-860c-0723d7b76274', 'SensorID': 488933, 'MessageDate': '2019-05-28 09:30:27', 'State': 16, 'SignalStrength': 100, 'Voltage': 3.05, 'Battery': 100, 'Data': '24.1', 'DisplayData': '24.1° C', 'PlotValue': '24.1', 'MetNotificationRequirements': True, 'GatewayID': 942753, 'DataValues': '24.1', 'DataTypes': 'TemperatureData', 'PlotValues': '24.1', 'PlotLabels': ['PlotLabels']}\n"
     ]
    }
   ],
   "source": [
    "curVal = result[0]\n",
    "#print(curVal)\n",
    "a = {\"DataMessageGUID\":curVal[\"DataMessageGUID\"],\"SensorID\":curVal[\"SensorID\"], \"MessageDate\":mydt, \"State\":curVal[\"State\"], \"SignalStrength\":curVal[\"SignalStrength\"], \"Voltage\":curVal[\"Voltage\"], \"Battery\":curVal[\"Battery\"],\"Data\":curVal[\"Data\"],\"DisplayData\":curVal[\"DisplayData\"],\"PlotValue\":curVal[\"PlotValue\"], \"MetNotificationRequirements\":curVal[\"MetNotificationRequirements\"],\"GatewayID\":curVal[\"GatewayID\"],\"DataValues\":curVal[\"DataValues\"],\"DataTypes\":curVal[\"DataTypes\"],\"PlotValues\":curVal[\"PlotValues\"],\"PlotLabels\":[\"PlotLabels\"]}\n",
    "print(a)\n",
    "rr=requests.post(apiUrl,auth=auth,data=a)\n",
    "\n",
    "# for item in hmm:\n",
    "#     #print(item['DataMessageGUID'])\n",
    "#     #print(dic)\n",
    "#     rr=requests.post(apiUrl,auth=auth,json=dic)\n",
    "\n",
    "           "
   ]
  },
  {
   "cell_type": "code",
   "execution_count": 46,
   "metadata": {},
   "outputs": [
    {
     "data": {
      "text/plain": [
       "<Response [200]>"
      ]
     },
     "execution_count": 46,
     "metadata": {},
     "output_type": "execute_result"
    }
   ],
   "source": [
    "rr"
   ]
  },
  {
   "cell_type": "code",
   "execution_count": null,
   "metadata": {},
   "outputs": [],
   "source": []
  },
  {
   "cell_type": "code",
   "execution_count": null,
   "metadata": {},
   "outputs": [],
   "source": []
  }
 ],
 "metadata": {
  "kernelspec": {
   "display_name": "Python 3",
   "language": "python",
   "name": "python3"
  },
  "language_info": {
   "codemirror_mode": {
    "name": "ipython",
    "version": 3
   },
   "file_extension": ".py",
   "mimetype": "text/x-python",
   "name": "python",
   "nbconvert_exporter": "python",
   "pygments_lexer": "ipython3",
   "version": "3.7.3"
  }
 },
 "nbformat": 4,
 "nbformat_minor": 2
}
