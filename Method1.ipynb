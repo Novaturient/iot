{
 "cells": [
  {
   "cell_type": "markdown",
   "metadata": {},
   "source": [
    "<h3>1. Import dependencies</h3>"
   ]
  },
  {
   "cell_type": "code",
   "execution_count": 1,
   "metadata": {},
   "outputs": [],
   "source": [
    "import requests\n",
    "from bs4 import BeautifulSoup as sp\n",
    "from selenium import webdriver\n",
    "from selenium.webdriver.chrome.options import Options"
   ]
  },
  {
   "cell_type": "code",
   "execution_count": 2,
   "metadata": {},
   "outputs": [],
   "source": [
    "from seleniumrequests import Chrome\n",
    "user= \"ascph2019\"\n",
    "pw= \"archibus2019\""
   ]
  },
  {
   "cell_type": "markdown",
   "metadata": {},
   "source": [
    "<h3>2. Access imonnit webpage </h3>"
   ]
  },
  {
   "cell_type": "code",
   "execution_count": 3,
   "metadata": {},
   "outputs": [],
   "source": [
    "chrome_options = Options()\n",
    "chrome_options.add_argument(\"--headless\")\n",
    "webdriver = Chrome(r'R:\\hackathon\\archibus-iot-master\\chromedriver.exe',options=chrome_options)\n",
    "webdriver.get('https://www.imonnit.com/Account/LogonOV?ReturnUrl=/')"
   ]
  },
  {
   "cell_type": "markdown",
   "metadata": {},
   "source": [
    "<h3>3. Log-in as ascph2019 on imonnit </h3>"
   ]
  },
  {
   "cell_type": "code",
   "execution_count": 4,
   "metadata": {},
   "outputs": [],
   "source": [
    "uname = webdriver.find_element_by_name(\"UserName\")\n",
    "pwd = webdriver.find_element_by_name(\"Password\")"
   ]
  },
  {
   "cell_type": "code",
   "execution_count": 5,
   "metadata": {},
   "outputs": [],
   "source": [
    "uname.send_keys(user)\n",
    "pwd.send_keys(pw)\n",
    "btn_xpath = '//*[@id=\"loginFormInside\"]/div[4]/input'\n",
    "login_btn = webdriver.find_element_by_xpath(btn_xpath)\n",
    "login_btn.click()"
   ]
  },
  {
   "cell_type": "markdown",
   "metadata": {},
   "source": [
    "<h3> 4. In prep for posting data in API server </h3>"
   ]
  },
  {
   "cell_type": "code",
   "execution_count": 6,
   "metadata": {},
   "outputs": [],
   "source": [
    "apiUrl = \"http://10.0.5.29:8000/api/temperatures/\" #Change my IP here\n",
    "auth = (\"admin\",\"admin123\")"
   ]
  },
  {
   "cell_type": "markdown",
   "metadata": {},
   "source": [
    "<h3>5. Get historical data from imonnit sensor that was specified </h3>"
   ]
  },
  {
   "cell_type": "code",
   "execution_count": 7,
   "metadata": {},
   "outputs": [],
   "source": [
    "ids = [\"488933\"]# 488935, 488937\"\"] #Add more sensor ids as you please. comma delimited.\n",
    "dictionaryOfData = {}"
   ]
  },
  {
   "cell_type": "code",
   "execution_count": 8,
   "metadata": {},
   "outputs": [
    {
     "name": "stdout",
     "output_type": "stream",
     "text": [
      "488933\n"
     ]
    }
   ],
   "source": [
    "\n",
    "for ID in ids:\n",
    "    url = f\"https://www.imonnit.com/Overview/SensorHistoryData?sensorID={ID}\"\n",
    "    print(ID)\n",
    "    r = webdriver.request('GET',url)\n",
    "    soup = sp(r.content)\n",
    "    dates = soup.find_all('div',{\"class\":[\"historyDate\"]})\n",
    "    values = soup.find_all('div',{\"class\":[\"historyReading\"]})\n",
    "    \n",
    "    # Get text only\n",
    "    formatDate = list(map(lambda x: x.text,dates))\n",
    "    formatValue = list(map(lambda x: x.text,values))\n",
    "    \n",
    "    a=list(zip(formatDate,formatValue))\n",
    "    #print(a)\n",
    "#     # Save to dictionary using id as key and a (array) as value\n",
    "    dictionaryOfData[ID] = a\n"
   ]
  },
  {
   "cell_type": "code",
   "execution_count": 10,
   "metadata": {},
   "outputs": [
    {
     "data": {
      "text/plain": [
       "{'488933': [('05/29/2019 5:09 PM', '24° C'),\n",
       "  ('05/29/2019 4:59 PM', '23.9° C'),\n",
       "  ('05/29/2019 4:49 PM', '23.9° C'),\n",
       "  ('05/29/2019 4:39 PM', '23.9° C'),\n",
       "  ('05/29/2019 4:29 PM', '23.7° C'),\n",
       "  ('05/29/2019 4:19 PM', '23.8° C'),\n",
       "  ('05/29/2019 4:09 PM', '23.9° C'),\n",
       "  ('05/29/2019 3:59 PM', '24° C'),\n",
       "  ('05/29/2019 3:49 PM', '24.1° C'),\n",
       "  ('05/29/2019 3:39 PM', '24° C'),\n",
       "  ('05/29/2019 3:29 PM', '24° C'),\n",
       "  ('05/29/2019 3:19 PM', '24° C'),\n",
       "  ('05/29/2019 3:09 PM', '23.8° C'),\n",
       "  ('05/29/2019 2:59 PM', '23.8° C'),\n",
       "  ('05/29/2019 2:49 PM', '23.9° C'),\n",
       "  ('05/29/2019 2:39 PM', '23.8° C'),\n",
       "  ('05/29/2019 2:29 PM', '23.8° C'),\n",
       "  ('05/29/2019 2:19 PM', '23.7° C'),\n",
       "  ('05/29/2019 2:09 PM', '23.7° C'),\n",
       "  ('05/29/2019 1:59 PM', '23.7° C'),\n",
       "  ('05/29/2019 1:49 PM', '23.4° C'),\n",
       "  ('05/29/2019 1:39 PM', '23.4° C'),\n",
       "  ('05/29/2019 1:29 PM', '23.4° C'),\n",
       "  ('05/29/2019 1:19 PM', '23.3° C'),\n",
       "  ('05/29/2019 1:09 PM', '23.4° C'),\n",
       "  ('05/29/2019 12:59 PM', '23.8° C'),\n",
       "  ('05/29/2019 12:49 PM', '24° C'),\n",
       "  ('05/29/2019 12:39 PM', '23.8° C'),\n",
       "  ('05/29/2019 12:29 PM', '23.5° C'),\n",
       "  ('05/29/2019 12:19 PM', '23.1° C'),\n",
       "  ('05/29/2019 12:09 PM', '22.2° C'),\n",
       "  ('05/29/2019 11:59 AM', '22.2° C'),\n",
       "  ('05/29/2019 11:49 AM', '22.2° C'),\n",
       "  ('05/29/2019 11:39 AM', '22.2° C'),\n",
       "  ('05/29/2019 11:29 AM', '22.3° C'),\n",
       "  ('05/29/2019 11:19 AM', '22.3° C'),\n",
       "  ('05/29/2019 11:09 AM', '22.3° C'),\n",
       "  ('05/29/2019 10:59 AM', '22.4° C'),\n",
       "  ('05/29/2019 10:49 AM', '22.6° C'),\n",
       "  ('05/29/2019 10:39 AM', '22.7° C'),\n",
       "  ('05/29/2019 10:29 AM', '22.5° C'),\n",
       "  ('05/29/2019 10:19 AM', '22.3° C'),\n",
       "  ('05/29/2019 10:09 AM', '22.3° C'),\n",
       "  ('05/29/2019 9:59 AM', '22.6° C'),\n",
       "  ('05/29/2019 9:49 AM', '22.6° C'),\n",
       "  ('05/29/2019 9:39 AM', '22.6° C'),\n",
       "  ('05/29/2019 9:39 AM', '22.6° C'),\n",
       "  ('05/29/2019 9:38 AM', '22.6° C'),\n",
       "  ('05/29/2019 9:38 AM', '22.5° C'),\n",
       "  ('05/28/2019 5:30 PM', '24.1° C'),\n",
       "  ('05/28/2019 5:20 PM', '24.1° C'),\n",
       "  ('05/28/2019 5:10 PM', '24.1° C'),\n",
       "  ('05/28/2019 5:00 PM', '23.7° C'),\n",
       "  ('05/28/2019 4:50 PM', '23.5° C'),\n",
       "  ('05/28/2019 4:40 PM', '23.6° C'),\n",
       "  ('05/28/2019 4:30 PM', '23.7° C'),\n",
       "  ('05/28/2019 4:20 PM', '23.8° C'),\n",
       "  ('05/28/2019 4:10 PM', '23.8° C'),\n",
       "  ('05/28/2019 4:00 PM', '23.8° C'),\n",
       "  ('05/28/2019 3:50 PM', '23.9° C'),\n",
       "  ('05/28/2019 3:40 PM', '23.9° C'),\n",
       "  ('05/28/2019 3:30 PM', '24.1° C'),\n",
       "  ('05/28/2019 3:20 PM', '24.1° C'),\n",
       "  ('05/28/2019 3:10 PM', '24.2° C'),\n",
       "  ('05/28/2019 3:00 PM', '24° C'),\n",
       "  ('05/28/2019 2:50 PM', '24° C'),\n",
       "  ('05/28/2019 2:40 PM', '24° C'),\n",
       "  ('05/28/2019 2:30 PM', '24° C'),\n",
       "  ('05/28/2019 2:20 PM', '24° C'),\n",
       "  ('05/28/2019 2:10 PM', '23.9° C'),\n",
       "  ('05/28/2019 2:00 PM', '23.9° C'),\n",
       "  ('05/28/2019 1:50 PM', '24° C'),\n",
       "  ('05/28/2019 1:40 PM', '24° C'),\n",
       "  ('05/28/2019 1:30 PM', '23.9° C'),\n",
       "  ('05/28/2019 1:20 PM', '23.9° C'),\n",
       "  ('05/28/2019 1:10 PM', '24° C'),\n",
       "  ('05/28/2019 1:00 PM', '23.9° C'),\n",
       "  ('05/28/2019 12:50 PM', '23.9° C'),\n",
       "  ('05/28/2019 12:40 PM', '23.9° C'),\n",
       "  ('05/28/2019 12:30 PM', '23.8° C'),\n",
       "  ('05/28/2019 12:20 PM', '23.1° C'),\n",
       "  ('05/28/2019 12:10 PM', '23.1° C'),\n",
       "  ('05/28/2019 12:00 PM', '23.1° C'),\n",
       "  ('05/28/2019 11:50 AM', '23.2° C'),\n",
       "  ('05/28/2019 11:40 AM', '23.2° C'),\n",
       "  ('05/28/2019 11:30 AM', '23.2° C'),\n",
       "  ('05/28/2019 11:20 AM', '23.3° C'),\n",
       "  ('05/28/2019 11:10 AM', '23.3° C'),\n",
       "  ('05/28/2019 11:00 AM', '23.4° C'),\n",
       "  ('05/28/2019 10:50 AM', '23.4° C'),\n",
       "  ('05/28/2019 10:40 AM', '23.5° C'),\n",
       "  ('05/28/2019 10:30 AM', '23.4° C'),\n",
       "  ('05/28/2019 10:20 AM', '23.5° C'),\n",
       "  ('05/28/2019 10:10 AM', '23.6° C'),\n",
       "  ('05/28/2019 10:00 AM', '23.7° C'),\n",
       "  ('05/28/2019 9:50 AM', '23.7° C'),\n",
       "  ('05/28/2019 9:40 AM', '23.8° C'),\n",
       "  ('05/28/2019 9:30 AM', '23.9° C'),\n",
       "  ('05/28/2019 9:30 AM', '23.9° C'),\n",
       "  ('05/28/2019 9:29 AM', '23.9° C')]}"
      ]
     },
     "execution_count": 10,
     "metadata": {},
     "output_type": "execute_result"
    }
   ],
   "source": [
    "dictionaryOfData"
   ]
  },
  {
   "cell_type": "code",
   "execution_count": 9,
   "metadata": {},
   "outputs": [
    {
     "name": "stdout",
     "output_type": "stream",
     "text": [
      "100\n"
     ]
    }
   ],
   "source": [
    "# Save to dictionary using id as key and a (array) as value\n",
    "dictionaryOfData[ID] = a\n",
    "dataCount = len(dictionaryOfData[ID])\n",
    "print(dataCount)"
   ]
  },
  {
   "cell_type": "markdown",
   "metadata": {},
   "source": [
    "<p>For now, when getting data every n minutes, we only need the latest data and or depending on the data currently present in the API server.</p>"
   ]
  },
  {
   "cell_type": "code",
   "execution_count": 31,
   "metadata": {
    "scrolled": true
   },
   "outputs": [
    {
     "name": "stdout",
     "output_type": "stream",
     "text": [
      "06/03/2019 3:32 PM\n",
      "2019-06-03 15:32:00\n"
     ]
    }
   ],
   "source": [
    "myval = dictionaryOfData[\"488933\"][0]\n",
    "mydate = myval[0]\n",
    "print(mydate)\n",
    "\n",
    "from datetime import datetime\n",
    "\n",
    "datetime_object = datetime.strptime(mydate, '%m/%d/%Y %I:%M %p')\n",
    "print(datetime_object)\n"
   ]
  },
  {
   "cell_type": "code",
   "execution_count": 13,
   "metadata": {},
   "outputs": [],
   "source": [
    "i=0\n",
    "#list = 6\n",
    "while (i < dataCount):\n",
    "    curVal = dictionaryOfData[\"488933\"][i]\n",
    "    data = {\"dateRead\":curVal[0],\"reading\":curVal[1]}\n",
    "    #print(data)\n",
    "    try:\n",
    "        r=requests.post(apiUrl,auth=auth,data=data) # POST method\n",
    "    except:\n",
    "        print(\"Already exists..maybe?\")\n",
    "    i += 1\n"
   ]
  },
  {
   "cell_type": "code",
   "execution_count": 23,
   "metadata": {},
   "outputs": [
    {
     "data": {
      "text/plain": [
       "<Response [500]>"
      ]
     },
     "execution_count": 23,
     "metadata": {},
     "output_type": "execute_result"
    }
   ],
   "source": [
    "\n",
    "r"
   ]
  },
  {
   "cell_type": "code",
   "execution_count": null,
   "metadata": {},
   "outputs": [],
   "source": []
  }
 ],
 "metadata": {
  "kernelspec": {
   "display_name": "Python 3",
   "language": "python",
   "name": "python3"
  },
  "language_info": {
   "codemirror_mode": {
    "name": "ipython",
    "version": 3
   },
   "file_extension": ".py",
   "mimetype": "text/x-python",
   "name": "python",
   "nbconvert_exporter": "python",
   "pygments_lexer": "ipython3",
   "version": "3.7.3"
  },
  "varInspector": {
   "cols": {
    "lenName": 16,
    "lenType": 16,
    "lenVar": 40
   },
   "kernels_config": {
    "python": {
     "delete_cmd_postfix": "",
     "delete_cmd_prefix": "del ",
     "library": "var_list.py",
     "varRefreshCmd": "print(var_dic_list())"
    },
    "r": {
     "delete_cmd_postfix": ") ",
     "delete_cmd_prefix": "rm(",
     "library": "var_list.r",
     "varRefreshCmd": "cat(var_dic_list()) "
    }
   },
   "types_to_exclude": [
    "module",
    "function",
    "builtin_function_or_method",
    "instance",
    "_Feature"
   ],
   "window_display": false
  }
 },
 "nbformat": 4,
 "nbformat_minor": 2
}
