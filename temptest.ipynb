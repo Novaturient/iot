{
 "cells": [
  {
   "cell_type": "code",
   "execution_count": 1,
   "metadata": {},
   "outputs": [],
   "source": [
    "import requests\n",
    "from bs4 import BeautifulSoup as sp\n",
    "from selenium import webdriver\n",
    "from selenium.webdriver.chrome.options import Options\n"
   ]
  },
  {
   "cell_type": "code",
   "execution_count": 2,
   "metadata": {},
   "outputs": [],
   "source": [
    "from seleniumrequests import Chrome\n",
    "from config import *\n",
    "import time"
   ]
  },
  {
   "cell_type": "code",
   "execution_count": 3,
   "metadata": {},
   "outputs": [
    {
     "name": "stdout",
     "output_type": "stream",
     "text": [
      "Setting up Web Driver\n"
     ]
    }
   ],
   "source": [
    "print(\"Setting up Web Driver\")\n",
    "chrome_options = Options()\n",
    "chrome_options.add_argument(\"--headless\")\n",
    "webdriver = Chrome(r'R:\\hackathon\\archibus-iot-master\\chromedriver.exe',options=chrome_options)\n",
    "webdriver.get('https://www.imonnit.com/Account/LogonOV?ReturnUrl=/')\n"
   ]
  },
  {
   "cell_type": "code",
   "execution_count": 4,
   "metadata": {},
   "outputs": [
    {
     "name": "stdout",
     "output_type": "stream",
     "text": [
      "Logging in\n"
     ]
    }
   ],
   "source": [
    "print(\"Logging in\")\n",
    "uname = webdriver.find_element_by_name(\"UserName\")\n",
    "pwd = webdriver.find_element_by_name(\"Password\")\n",
    "uname.send_keys(user)\n",
    "pwd.send_keys(pw)\n",
    "btn_xpath = '//*[@id=\"loginFormInside\"]/div[4]/input'\n",
    "login_btn = webdriver.find_element_by_xpath(btn_xpath)\n",
    "login_btn.click()\n"
   ]
  },
  {
   "cell_type": "code",
   "execution_count": 5,
   "metadata": {},
   "outputs": [],
   "source": [
    "# Get historical data\n",
    "ids = [\"488933\"]#\"488939\", \"488935\", \"488937\", ] #Add more sensor ids as you please. comma delimited.\n",
    "dictionaryOfData = {}\n",
    "tables = {\n",
    "    \"488933\" : \"temperature\"\n",
    "    # \"488939\" : \"light\",\n",
    "    # \"488935\" : \"doors\",\n",
    "    # \"488937\" : \"motion\"\n",
    "}"
   ]
  },
  {
   "cell_type": "code",
   "execution_count": 7,
   "metadata": {},
   "outputs": [
    {
     "name": "stdout",
     "output_type": "stream",
     "text": [
      "Getting data from temperature (488933)...\n",
      "[('05/30/2019 9:38 AM', '23.5° C'), ('05/30/2019 9:28 AM', '23.5° C'), ('05/30/2019 9:18 AM', '23.3° C'), ('05/30/2019 9:08 AM', '23.2° C'), ('05/30/2019 8:58 AM', '23.2° C'), ('05/30/2019 8:48 AM', '23.4° C'), ('05/30/2019 8:38 AM', '23.5° C'), ('05/30/2019 8:28 AM', '23.6° C'), ('05/30/2019 8:18 AM', '23.7° C'), ('05/30/2019 8:08 AM', '23.9° C'), ('05/30/2019 7:58 AM', '23.8° C'), ('05/30/2019 7:48 AM', '23.9° C'), ('05/30/2019 7:38 AM', '24° C'), ('05/30/2019 7:28 AM', '24.1° C'), ('05/30/2019 7:18 AM', '24° C'), ('05/30/2019 7:08 AM', '23.9° C'), ('05/30/2019 6:58 AM', '23.5° C'), ('05/30/2019 6:48 AM', '23.3° C'), ('05/30/2019 6:38 AM', '24.2° C'), ('05/30/2019 6:28 AM', '25.3° C'), ('05/30/2019 6:18 AM', '27.7° C'), ('05/30/2019 6:08 AM', '28.2° C'), ('05/30/2019 5:58 AM', '28.2° C'), ('05/30/2019 5:48 AM', '28.2° C'), ('05/30/2019 5:38 AM', '28.1° C'), ('05/30/2019 5:28 AM', '28.2° C'), ('05/30/2019 5:18 AM', '28.2° C'), ('05/30/2019 5:08 AM', '28.2° C'), ('05/30/2019 4:58 AM', '28.2° C'), ('05/30/2019 4:48 AM', '28.2° C'), ('05/30/2019 4:38 AM', '28.2° C'), ('05/30/2019 4:28 AM', '28.2° C'), ('05/30/2019 4:18 AM', '28.2° C'), ('05/30/2019 4:08 AM', '28.2° C'), ('05/30/2019 3:58 AM', '28.2° C'), ('05/30/2019 3:48 AM', '28.2° C'), ('05/30/2019 3:38 AM', '28.2° C'), ('05/30/2019 3:28 AM', '28.2° C'), ('05/30/2019 3:18 AM', '28.2° C'), ('05/30/2019 3:08 AM', '28.2° C'), ('05/30/2019 2:58 AM', '28.2° C'), ('05/30/2019 2:48 AM', '28.2° C'), ('05/30/2019 2:38 AM', '28.2° C'), ('05/30/2019 2:28 AM', '28.1° C'), ('05/30/2019 2:18 AM', '28.2° C'), ('05/30/2019 2:08 AM', '28.2° C'), ('05/30/2019 1:58 AM', '28.2° C'), ('05/30/2019 1:48 AM', '28.2° C'), ('05/30/2019 1:38 AM', '28.1° C'), ('05/30/2019 1:29 AM', '28.2° C'), ('05/30/2019 1:19 AM', '28.2° C'), ('05/30/2019 1:09 AM', '28.2° C'), ('05/30/2019 12:59 AM', '28.2° C'), ('05/30/2019 12:49 AM', '28.1° C'), ('05/30/2019 12:39 AM', '28.2° C'), ('05/30/2019 12:29 AM', '28.2° C'), ('05/30/2019 12:19 AM', '28.2° C'), ('05/30/2019 12:09 AM', '28.2° C'), ('05/29/2019 11:59 PM', '28.1° C'), ('05/29/2019 11:49 PM', '28.1° C'), ('05/29/2019 11:39 PM', '28.1° C'), ('05/29/2019 11:29 PM', '28.1° C'), ('05/29/2019 11:19 PM', '28.1° C'), ('05/29/2019 11:09 PM', '28.1° C'), ('05/29/2019 10:59 PM', '28° C'), ('05/29/2019 10:49 PM', '28° C'), ('05/29/2019 10:39 PM', '28° C'), ('05/29/2019 10:29 PM', '28° C'), ('05/29/2019 10:19 PM', '28° C'), ('05/29/2019 10:09 PM', '28° C'), ('05/29/2019 9:59 PM', '27.9° C'), ('05/29/2019 9:49 PM', '27.9° C'), ('05/29/2019 9:39 PM', '27.9° C'), ('05/29/2019 9:29 PM', '27.9° C'), ('05/29/2019 9:19 PM', '27.8° C'), ('05/29/2019 9:09 PM', '27.8° C'), ('05/29/2019 8:59 PM', '27.7° C'), ('05/29/2019 8:49 PM', '27.7° C'), ('05/29/2019 8:39 PM', '27.7° C'), ('05/29/2019 8:29 PM', '27.7° C'), ('05/29/2019 8:19 PM', '27.6° C'), ('05/29/2019 8:09 PM', '27.6° C'), ('05/29/2019 7:59 PM', '27.5° C'), ('05/29/2019 7:49 PM', '27.4° C'), ('05/29/2019 7:39 PM', '27.3° C'), ('05/29/2019 7:29 PM', '27.2° C'), ('05/29/2019 7:19 PM', '27.2° C'), ('05/29/2019 7:09 PM', '27° C'), ('05/29/2019 6:59 PM', '26.9° C'), ('05/29/2019 6:49 PM', '26.8° C'), ('05/29/2019 6:39 PM', '26.6° C'), ('05/29/2019 6:29 PM', '26.4° C'), ('05/29/2019 6:19 PM', '26.2° C'), ('05/29/2019 6:09 PM', '25.9° C'), ('05/29/2019 5:59 PM', '25.6° C'), ('05/29/2019 5:49 PM', '25.1° C'), ('05/29/2019 5:39 PM', '24.5° C'), ('05/29/2019 5:29 PM', '23.8° C'), ('05/29/2019 5:19 PM', '23.9° C'), ('05/29/2019 5:09 PM', '24° C')]\n"
     ]
    }
   ],
   "source": [
    "for ID in tables:\n",
    "    url = f\"https://www.imonnit.com/Overview/SensorHistoryData?sensorID={ID}\"\n",
    "    print(f\"Getting data from {tables[ID]} ({ID})...\")\n",
    "    r = webdriver.request('GET',url)\n",
    "    soup = sp(r.content)\n",
    "    dates = soup.find_all('div',{\"class\":[\"historyDate\"]})\n",
    "    values = soup.find_all('div',{\"class\":[\"historyReading\"]})\n",
    "        \n",
    "    # Get text only\n",
    "    formatDate = list(map(lambda x: x.text,dates))\n",
    "    formatValue = list(map(lambda x: x.text,values))\n",
    "\n",
    "        \n",
    "    a=list(zip(formatDate,formatValue))\n",
    "    # if ID == \"488933\":\n",
    "    #     print(a)\n",
    "    print(a)\n",
    "    # Save to dictionary using id as key and a (array) as value\n",
    "    dictionaryOfData[ID] = a\n"
   ]
  },
  {
   "cell_type": "code",
   "execution_count": 8,
   "metadata": {},
   "outputs": [
    {
     "name": "stdout",
     "output_type": "stream",
     "text": [
      "POSTing data to api\n"
     ]
    },
    {
     "ename": "NameError",
     "evalue": "name 'table' is not defined",
     "output_type": "error",
     "traceback": [
      "\u001b[1;31m---------------------------------------------------------------------------\u001b[0m",
      "\u001b[1;31mNameError\u001b[0m                                 Traceback (most recent call last)",
      "\u001b[1;32m<ipython-input-8-d7dd4c3d7b2d>\u001b[0m in \u001b[0;36m<module>\u001b[1;34m\u001b[0m\n\u001b[0;32m      1\u001b[0m \u001b[0mprint\u001b[0m\u001b[1;33m(\u001b[0m\u001b[1;34m\"POSTing data to api\"\u001b[0m\u001b[1;33m)\u001b[0m\u001b[1;33m\u001b[0m\u001b[1;33m\u001b[0m\u001b[0m\n\u001b[0;32m      2\u001b[0m     \u001b[1;31m# django api\u001b[0m\u001b[1;33m\u001b[0m\u001b[1;33m\u001b[0m\u001b[1;33m\u001b[0m\u001b[0m\n\u001b[1;32m----> 3\u001b[1;33m \u001b[0mapiUrl\u001b[0m \u001b[1;33m=\u001b[0m \u001b[1;34mf\"http://10.0.5.29:8000/api/{table}/\"\u001b[0m \u001b[1;31m#Change my IP here\u001b[0m\u001b[1;33m\u001b[0m\u001b[1;33m\u001b[0m\u001b[0m\n\u001b[0m\u001b[0;32m      4\u001b[0m \u001b[0mauth\u001b[0m \u001b[1;33m=\u001b[0m \u001b[1;33m(\u001b[0m\u001b[1;34m\"admin\"\u001b[0m\u001b[1;33m,\u001b[0m\u001b[1;34m\"admin123\"\u001b[0m\u001b[1;33m)\u001b[0m\u001b[1;33m\u001b[0m\u001b[1;33m\u001b[0m\u001b[0m\n",
      "\u001b[1;31mNameError\u001b[0m: name 'table' is not defined"
     ]
    }
   ],
   "source": [
    "print(\"POSTing data to api\")\n",
    "# django api\n",
    "apiUrl = f\"http://10.0.5.29:8000/api/temperature/\" #Change my IP here\n",
    "auth = (\"admin\",\"admin123\")"
   ]
  },
  {
   "cell_type": "code",
   "execution_count": null,
   "metadata": {},
   "outputs": [],
   "source": []
  }
 ],
 "metadata": {
  "kernelspec": {
   "display_name": "Python 3",
   "language": "python",
   "name": "python3"
  },
  "language_info": {
   "codemirror_mode": {
    "name": "ipython",
    "version": 3
   },
   "file_extension": ".py",
   "mimetype": "text/x-python",
   "name": "python",
   "nbconvert_exporter": "python",
   "pygments_lexer": "ipython3",
   "version": "3.7.3"
  }
 },
 "nbformat": 4,
 "nbformat_minor": 2
}
