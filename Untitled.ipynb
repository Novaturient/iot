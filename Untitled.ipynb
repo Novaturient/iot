{
 "cells": [
  {
   "cell_type": "markdown",
   "metadata": {},
   "source": [
    "<h3>1. Import dependencies</h3>"
   ]
  },
  {
   "cell_type": "code",
   "execution_count": 1,
   "metadata": {},
   "outputs": [],
   "source": [
    "import requests\n",
    "from bs4 import BeautifulSoup as sp\n",
    "from selenium import webdriver\n",
    "from selenium.webdriver.chrome.options import Options"
   ]
  },
  {
   "cell_type": "code",
   "execution_count": 2,
   "metadata": {},
   "outputs": [],
   "source": [
    "from seleniumrequests import Chrome\n",
    "user= \"ascph2019\"\n",
    "pw= \"archibus2019\""
   ]
  },
  {
   "cell_type": "markdown",
   "metadata": {},
   "source": [
    "<h3>2. Access imonnit webpage </h3>"
   ]
  },
  {
   "cell_type": "code",
   "execution_count": 3,
   "metadata": {},
   "outputs": [],
   "source": [
    "chrome_options = Options()\n",
    "chrome_options.add_argument(\"--headless\")\n",
    "webdriver = Chrome(r'R:\\hackathon\\archibus-iot-master\\chromedriver.exe',options=chrome_options)\n",
    "webdriver.get('https://www.imonnit.com/Account/LogonOV?ReturnUrl=/')"
   ]
  },
  {
   "cell_type": "markdown",
   "metadata": {},
   "source": [
    "<h3>3. Log-in as ascph2019 on imonnit </h3>"
   ]
  },
  {
   "cell_type": "code",
   "execution_count": 4,
   "metadata": {},
   "outputs": [],
   "source": [
    "uname = webdriver.find_element_by_name(\"UserName\")\n",
    "pwd = webdriver.find_element_by_name(\"Password\")"
   ]
  },
  {
   "cell_type": "code",
   "execution_count": 5,
   "metadata": {},
   "outputs": [],
   "source": [
    "uname.send_keys(user)\n",
    "pwd.send_keys(pw)\n",
    "btn_xpath = '//*[@id=\"loginFormInside\"]/div[4]/input'\n",
    "login_btn = webdriver.find_element_by_xpath(btn_xpath)\n",
    "login_btn.click()"
   ]
  },
  {
   "cell_type": "markdown",
   "metadata": {},
   "source": [
    "<h3>4. Get historical data from imonnit sensor that was specified </h3>"
   ]
  },
  {
   "cell_type": "code",
   "execution_count": 6,
   "metadata": {},
   "outputs": [],
   "source": [
    "ids = [\"488933\"] #Add more sensor ids as you please. comma delimited.\n",
    "dictionaryOfData = {}\n",
    "\n",
    "for ID in ids:\n",
    "    url = f\"https://www.imonnit.com/Overview/SensorHistoryData?sensorID={ID}\"\n",
    "    r = webdriver.request('GET',url)\n",
    "    soup = sp(r.content)\n",
    "    dates = soup.find_all('div',{\"class\":[\"historyDate\"]})\n",
    "    values = soup.find_all('div',{\"class\":[\"historyReading\"]})\n",
    "    \n",
    "    # Get text only\n",
    "    formatDate = list(map(lambda x: x.text,dates))\n",
    "    formatValue = list(map(lambda x: x.text,values))\n",
    "    \n",
    "    a=list(zip(formatDate,formatValue))\n",
    "    \n",
    "    # Save to dictionary using id as key and a (array) as value\n",
    "    dictionaryOfData[ID] = a\n",
    "    "
   ]
  },
  {
   "cell_type": "code",
   "execution_count": 7,
   "metadata": {},
   "outputs": [
    {
     "data": {
      "text/plain": [
       "100"
      ]
     },
     "execution_count": 7,
     "metadata": {},
     "output_type": "execute_result"
    }
   ],
   "source": [
    "len(dictionaryOfData[ID])"
   ]
  },
  {
   "cell_type": "code",
   "execution_count": 11,
   "metadata": {},
   "outputs": [
    {
     "name": "stdout",
     "output_type": "stream",
     "text": [
      "('05/24/2019 11:16 AM', '23.3° C')\n"
     ]
    }
   ],
   "source": [
    "i=0\n",
    "#list = len(dictionaryOfData[ID])\n",
    "list = 50\n",
    "# while (i < list):\n",
    "#     curVal = dictionaryOfData[\"488933\"][i]\n",
    "#     print(curVal)\n",
    "#     i += 1\n",
    "\n",
    "curVal = dictionaryOfData[\"488933\"][50]\n",
    "print(curVal)"
   ]
  },
  {
   "cell_type": "code",
   "execution_count": 8,
   "metadata": {
    "scrolled": true
   },
   "outputs": [
    {
     "data": {
      "text/plain": [
       "[('05/27/2019 12:51 PM', '23.7° C'),\n",
       " ('05/27/2019 12:41 PM', '23.7° C'),\n",
       " ('05/27/2019 12:31 PM', '23.8° C'),\n",
       " ('05/27/2019 12:21 PM', '23.8° C'),\n",
       " ('05/27/2019 12:11 PM', '24.1° C'),\n",
       " ('05/27/2019 12:01 PM', '24.2° C'),\n",
       " ('05/27/2019 11:51 AM', '24.3° C'),\n",
       " ('05/27/2019 11:41 AM', '24.2° C'),\n",
       " ('05/27/2019 11:31 AM', '24.2° C'),\n",
       " ('05/27/2019 11:21 AM', '24.2° C'),\n",
       " ('05/27/2019 11:11 AM', '24.3° C'),\n",
       " ('05/27/2019 11:01 AM', '24.3° C'),\n",
       " ('05/27/2019 10:51 AM', '24.2° C'),\n",
       " ('05/27/2019 10:41 AM', '24° C'),\n",
       " ('05/27/2019 10:32 AM', '23.9° C'),\n",
       " ('05/27/2019 10:22 AM', '23.6° C'),\n",
       " ('05/27/2019 10:12 AM', '23.4° C'),\n",
       " ('05/27/2019 10:02 AM', '23.5° C'),\n",
       " ('05/27/2019 10:01 AM', '23.5° C'),\n",
       " ('05/27/2019 10:01 AM', '23.5° C'),\n",
       " ('05/27/2019 10:00 AM', '23.6° C'),\n",
       " ('05/24/2019 5:36 PM', '23.1° C'),\n",
       " ('05/24/2019 5:26 PM', '22.8° C'),\n",
       " ('05/24/2019 5:16 PM', '23.1° C'),\n",
       " ('05/24/2019 5:06 PM', '22.9° C'),\n",
       " ('05/24/2019 4:56 PM', '22.9° C'),\n",
       " ('05/24/2019 4:46 PM', '23.1° C'),\n",
       " ('05/24/2019 4:36 PM', '23.1° C'),\n",
       " ('05/24/2019 4:26 PM', '23° C'),\n",
       " ('05/24/2019 4:16 PM', '23° C'),\n",
       " ('05/24/2019 4:06 PM', '22.9° C'),\n",
       " ('05/24/2019 3:56 PM', '22.7° C'),\n",
       " ('05/24/2019 3:46 PM', '22.5° C'),\n",
       " ('05/24/2019 3:36 PM', '22.5° C'),\n",
       " ('05/24/2019 3:26 PM', '22.5° C'),\n",
       " ('05/24/2019 3:16 PM', '22.4° C'),\n",
       " ('05/24/2019 3:06 PM', '22.5° C'),\n",
       " ('05/24/2019 2:56 PM', '22.7° C'),\n",
       " ('05/24/2019 2:46 PM', '23° C'),\n",
       " ('05/24/2019 2:36 PM', '22.9° C'),\n",
       " ('05/24/2019 2:26 PM', '22.9° C'),\n",
       " ('05/24/2019 2:16 PM', '22.9° C'),\n",
       " ('05/24/2019 2:06 PM', '23.3° C'),\n",
       " ('05/24/2019 1:56 PM', '23.5° C'),\n",
       " ('05/24/2019 1:46 PM', '23.2° C'),\n",
       " ('05/24/2019 1:36 PM', '23.4° C'),\n",
       " ('05/24/2019 1:26 PM', '23.7° C'),\n",
       " ('05/24/2019 1:16 PM', '24.1° C'),\n",
       " ('05/24/2019 1:06 PM', '24.1° C'),\n",
       " ('05/24/2019 12:56 PM', '24.1° C'),\n",
       " ('05/24/2019 12:46 PM', '24.1° C'),\n",
       " ('05/24/2019 12:36 PM', '24.1° C'),\n",
       " ('05/24/2019 12:26 PM', '24° C'),\n",
       " ('05/24/2019 12:16 PM', '23.8° C'),\n",
       " ('05/24/2019 12:06 PM', '23.4° C'),\n",
       " ('05/24/2019 11:56 AM', '23.2° C'),\n",
       " ('05/24/2019 11:46 AM', '23.2° C'),\n",
       " ('05/24/2019 11:36 AM', '23.4° C'),\n",
       " ('05/24/2019 11:26 AM', '23.4° C'),\n",
       " ('05/24/2019 11:16 AM', '23.3° C'),\n",
       " ('05/24/2019 11:06 AM', '23.3° C'),\n",
       " ('05/24/2019 10:56 AM', '23.3° C'),\n",
       " ('05/24/2019 10:46 AM', '23.4° C'),\n",
       " ('05/24/2019 10:36 AM', '23.4° C'),\n",
       " ('05/24/2019 10:26 AM', '23.1° C'),\n",
       " ('05/24/2019 10:16 AM', '23.2° C'),\n",
       " ('05/24/2019 10:06 AM', '23.4° C'),\n",
       " ('05/24/2019 9:56 AM', '23.4° C'),\n",
       " ('05/24/2019 9:46 AM', '23.5° C'),\n",
       " ('05/24/2019 9:37 AM', '23.5° C'),\n",
       " ('05/24/2019 9:27 AM', '23.6° C'),\n",
       " ('05/24/2019 9:17 AM', '23.7° C'),\n",
       " ('05/24/2019 9:07 AM', '23.7° C'),\n",
       " ('05/24/2019 8:57 AM', '23.8° C'),\n",
       " ('05/24/2019 8:47 AM', '24° C'),\n",
       " ('05/24/2019 8:36 AM', '25.2° C'),\n",
       " ('05/24/2019 8:26 AM', '28.5° C'),\n",
       " ('05/24/2019 8:16 AM', '28.6° C'),\n",
       " ('05/24/2019 8:06 AM', '28.8° C'),\n",
       " ('05/24/2019 7:56 AM', '28.8° C'),\n",
       " ('05/24/2019 7:46 AM', '28.9° C'),\n",
       " ('05/24/2019 7:37 AM', '29° C'),\n",
       " ('05/24/2019 7:27 AM', '28.9° C'),\n",
       " ('05/24/2019 7:17 AM', '29° C'),\n",
       " ('05/24/2019 7:07 AM', '28.9° C'),\n",
       " ('05/24/2019 6:57 AM', '28.8° C'),\n",
       " ('05/24/2019 6:47 AM', '28.9° C'),\n",
       " ('05/24/2019 6:37 AM', '28.8° C'),\n",
       " ('05/24/2019 6:27 AM', '28.8° C'),\n",
       " ('05/24/2019 6:17 AM', '28.8° C'),\n",
       " ('05/24/2019 6:07 AM', '28.8° C'),\n",
       " ('05/24/2019 5:57 AM', '28.8° C'),\n",
       " ('05/24/2019 5:47 AM', '28.8° C'),\n",
       " ('05/24/2019 5:37 AM', '28.8° C'),\n",
       " ('05/24/2019 5:27 AM', '28.8° C'),\n",
       " ('05/24/2019 5:17 AM', '28.8° C'),\n",
       " ('05/24/2019 5:07 AM', '28.8° C'),\n",
       " ('05/24/2019 4:57 AM', '28.8° C'),\n",
       " ('05/24/2019 4:47 AM', '28.8° C'),\n",
       " ('05/24/2019 4:37 AM', '28.8° C')]"
      ]
     },
     "execution_count": 8,
     "metadata": {},
     "output_type": "execute_result"
    }
   ],
   "source": [
    "dictionaryOfData[ID]"
   ]
  },
  {
   "cell_type": "markdown",
   "metadata": {},
   "source": [
    "<p>For now, when getting data every n minutes, we only need the latest data and or depending on the data currently present in the API server.</p>"
   ]
  },
  {
   "cell_type": "code",
   "execution_count": 24,
   "metadata": {},
   "outputs": [
    {
     "name": "stdout",
     "output_type": "stream",
     "text": [
      "('05/24/2019 11:16 AM', '23.3° C')\n"
     ]
    }
   ],
   "source": [
    "dataToSend = dictionaryOfData[\"488933\"][50] # This is the latest data,  zeroth indexed\n",
    "print(dataToSend)"
   ]
  },
  {
   "cell_type": "markdown",
   "metadata": {},
   "source": [
    "<h3>5. POST data to our API server </h3>"
   ]
  },
  {
   "cell_type": "code",
   "execution_count": 9,
   "metadata": {},
   "outputs": [],
   "source": [
    "apiUrl = \"http://10.0.5.29:8000/api/temperatures/\" #Change my IP here\n",
    "auth = (\"admin\",\"admin123\")"
   ]
  },
  {
   "cell_type": "code",
   "execution_count": 10,
   "metadata": {},
   "outputs": [],
   "source": [
    "i=0\n",
    "list = len(dictionaryOfData[ID])\n",
    "#list = 6\n",
    "while (i < list):\n",
    "    curVal = dictionaryOfData[\"488933\"][i]\n",
    "    data = {\"dateRead\":curVal[0],\"reading\":curVal[1]}\n",
    "    #print(data)\n",
    "    try:\n",
    "        r=requests.post(apiUrl,auth=auth,data=data) # POST method\n",
    "    except:\n",
    "        print(\"Already exists..maybe?\")\n",
    "    i += 1\n"
   ]
  },
  {
   "cell_type": "code",
   "execution_count": 26,
   "metadata": {},
   "outputs": [],
   "source": [
    "data = {\"dateRead\":dataToSend[0],\"reading\":dataToSend[1]}"
   ]
  },
  {
   "cell_type": "code",
   "execution_count": 28,
   "metadata": {},
   "outputs": [
    {
     "name": "stdout",
     "output_type": "stream",
     "text": [
      "<Response [500]>\n"
     ]
    }
   ],
   "source": [
    "try:\n",
    "    r=requests.post(apiUrl,auth=auth,data=data) # POST method\n",
    "    print(r)\n",
    "except Exception as e: \n",
    "    print(e)"
   ]
  },
  {
   "cell_type": "code",
   "execution_count": 23,
   "metadata": {},
   "outputs": [
    {
     "data": {
      "text/plain": [
       "<Response [500]>"
      ]
     },
     "execution_count": 23,
     "metadata": {},
     "output_type": "execute_result"
    }
   ],
   "source": [
    "r"
   ]
  },
  {
   "cell_type": "code",
   "execution_count": null,
   "metadata": {},
   "outputs": [],
   "source": []
  }
 ],
 "metadata": {
  "kernelspec": {
   "display_name": "Python 3",
   "language": "python",
   "name": "python3"
  },
  "language_info": {
   "codemirror_mode": {
    "name": "ipython",
    "version": 3
   },
   "file_extension": ".py",
   "mimetype": "text/x-python",
   "name": "python",
   "nbconvert_exporter": "python",
   "pygments_lexer": "ipython3",
   "version": "3.7.3"
  },
  "varInspector": {
   "cols": {
    "lenName": 16,
    "lenType": 16,
    "lenVar": 40
   },
   "kernels_config": {
    "python": {
     "delete_cmd_postfix": "",
     "delete_cmd_prefix": "del ",
     "library": "var_list.py",
     "varRefreshCmd": "print(var_dic_list())"
    },
    "r": {
     "delete_cmd_postfix": ") ",
     "delete_cmd_prefix": "rm(",
     "library": "var_list.r",
     "varRefreshCmd": "cat(var_dic_list()) "
    }
   },
   "types_to_exclude": [
    "module",
    "function",
    "builtin_function_or_method",
    "instance",
    "_Feature"
   ],
   "window_display": false
  }
 },
 "nbformat": 4,
 "nbformat_minor": 2
}
