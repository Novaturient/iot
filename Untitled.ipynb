{
 "cells": [
  {
   "cell_type": "markdown",
   "metadata": {},
   "source": [
    "<h3>1. Import dependencies</h3>"
   ]
  },
  {
   "cell_type": "code",
   "execution_count": 1,
   "metadata": {},
   "outputs": [],
   "source": [
    "import requests\n",
    "from bs4 import BeautifulSoup as sp\n",
    "from selenium import webdriver\n",
    "from selenium.webdriver.chrome.options import Options"
   ]
  },
  {
   "cell_type": "code",
   "execution_count": 2,
   "metadata": {},
   "outputs": [],
   "source": [
    "from seleniumrequests import Chrome\n",
    "user= \"ascph2019\"\n",
    "pw= \"archibus2019\""
   ]
  },
  {
   "cell_type": "markdown",
   "metadata": {},
   "source": [
    "<h3>2. Access imonnit webpage </h3>"
   ]
  },
  {
   "cell_type": "code",
   "execution_count": 3,
   "metadata": {},
   "outputs": [],
   "source": [
    "chrome_options = Options()\n",
    "chrome_options.add_argument(\"--headless\")\n",
    "webdriver = Chrome(r'R:\\hackathon\\archibus-iot-master\\chromedriver.exe',options=chrome_options)\n",
    "webdriver.get('https://www.imonnit.com/Account/LogonOV?ReturnUrl=/')"
   ]
  },
  {
   "cell_type": "markdown",
   "metadata": {},
   "source": [
    "<h3>3. Log-in as ascph2019 on imonnit </h3>"
   ]
  },
  {
   "cell_type": "code",
   "execution_count": 4,
   "metadata": {},
   "outputs": [],
   "source": [
    "uname = webdriver.find_element_by_name(\"UserName\")\n",
    "pwd = webdriver.find_element_by_name(\"Password\")"
   ]
  },
  {
   "cell_type": "code",
   "execution_count": 5,
   "metadata": {},
   "outputs": [],
   "source": [
    "uname.send_keys(user)\n",
    "pwd.send_keys(pw)\n",
    "btn_xpath = '//*[@id=\"loginFormInside\"]/div[4]/input'\n",
    "login_btn = webdriver.find_element_by_xpath(btn_xpath)\n",
    "login_btn.click()"
   ]
  },
  {
   "cell_type": "markdown",
   "metadata": {},
   "source": [
    "<h3> 4. In prep for posting data in API server </h3>"
   ]
  },
  {
   "cell_type": "code",
   "execution_count": 6,
   "metadata": {},
   "outputs": [],
   "source": [
    "apiUrl = \"http://10.0.5.29:8000/api/temperatures/\" #Change my IP here\n",
    "auth = (\"admin\",\"admin123\")"
   ]
  },
  {
   "cell_type": "markdown",
   "metadata": {},
   "source": [
    "<h3>5. Get historical data from imonnit sensor that was specified </h3>"
   ]
  },
  {
   "cell_type": "code",
   "execution_count": 17,
   "metadata": {},
   "outputs": [],
   "source": [
    "ids = [\"488933\", \"488939\"]# 488935, 488937\"\"] #Add more sensor ids as you please. comma delimited.\n",
    "dictionaryOfData = {}"
   ]
  },
  {
   "cell_type": "code",
   "execution_count": 18,
   "metadata": {},
   "outputs": [
    {
     "name": "stdout",
     "output_type": "stream",
     "text": [
      "488933\n",
      "488939\n"
     ]
    }
   ],
   "source": [
    "\n",
    "for ID in ids:\n",
    "    url = f\"https://www.imonnit.com/Overview/SensorHistoryData?sensorID={ID}\"\n",
    "    print(ID)\n",
    "    r = webdriver.request('GET',url)\n",
    "    soup = sp(r.content)\n",
    "    dates = soup.find_all('div',{\"class\":[\"historyDate\"]})\n",
    "    values = soup.find_all('div',{\"class\":[\"historyReading\"]})\n",
    "    \n",
    "    # Get text only\n",
    "    formatDate = list(map(lambda x: x.text,dates))\n",
    "    formatValue = list(map(lambda x: x.text,values))\n",
    "    \n",
    "#     b = map(lambda x: x.text,dates)\n",
    "#     c = map(lambda x: x.text,values)\n",
    "#     formatDate = list[b]\n",
    "#     formatValue = list[c]\n",
    "    \n",
    "    a=list(zip(formatDate,formatValue))\n",
    "#     print(a)\n",
    "#     # Save to dictionary using id as key and a (array) as value\n",
    "    dictionaryOfData[ID] = a\n"
   ]
  },
  {
   "cell_type": "code",
   "execution_count": 10,
   "metadata": {},
   "outputs": [],
   "source": [
    "formatDate = list(map(lambda x: x.text,dates))"
   ]
  },
  {
   "cell_type": "code",
   "execution_count": 19,
   "metadata": {},
   "outputs": [
    {
     "data": {
      "text/plain": [
       "{'488933': [('05/28/2019 5:30 PM', '24.1° C'),\n",
       "  ('05/28/2019 5:20 PM', '24.1° C'),\n",
       "  ('05/28/2019 5:10 PM', '24.1° C'),\n",
       "  ('05/28/2019 5:00 PM', '23.7° C'),\n",
       "  ('05/28/2019 4:50 PM', '23.5° C'),\n",
       "  ('05/28/2019 4:40 PM', '23.6° C'),\n",
       "  ('05/28/2019 4:30 PM', '23.7° C'),\n",
       "  ('05/28/2019 4:20 PM', '23.8° C'),\n",
       "  ('05/28/2019 4:10 PM', '23.8° C'),\n",
       "  ('05/28/2019 4:00 PM', '23.8° C'),\n",
       "  ('05/28/2019 3:50 PM', '23.9° C'),\n",
       "  ('05/28/2019 3:40 PM', '23.9° C'),\n",
       "  ('05/28/2019 3:30 PM', '24.1° C'),\n",
       "  ('05/28/2019 3:20 PM', '24.1° C'),\n",
       "  ('05/28/2019 3:10 PM', '24.2° C'),\n",
       "  ('05/28/2019 3:00 PM', '24° C'),\n",
       "  ('05/28/2019 2:50 PM', '24° C'),\n",
       "  ('05/28/2019 2:40 PM', '24° C'),\n",
       "  ('05/28/2019 2:30 PM', '24° C'),\n",
       "  ('05/28/2019 2:20 PM', '24° C'),\n",
       "  ('05/28/2019 2:10 PM', '23.9° C'),\n",
       "  ('05/28/2019 2:00 PM', '23.9° C'),\n",
       "  ('05/28/2019 1:50 PM', '24° C'),\n",
       "  ('05/28/2019 1:40 PM', '24° C'),\n",
       "  ('05/28/2019 1:30 PM', '23.9° C'),\n",
       "  ('05/28/2019 1:20 PM', '23.9° C'),\n",
       "  ('05/28/2019 1:10 PM', '24° C'),\n",
       "  ('05/28/2019 1:00 PM', '23.9° C'),\n",
       "  ('05/28/2019 12:50 PM', '23.9° C'),\n",
       "  ('05/28/2019 12:40 PM', '23.9° C'),\n",
       "  ('05/28/2019 12:30 PM', '23.8° C'),\n",
       "  ('05/28/2019 12:20 PM', '23.1° C'),\n",
       "  ('05/28/2019 12:10 PM', '23.1° C'),\n",
       "  ('05/28/2019 12:00 PM', '23.1° C'),\n",
       "  ('05/28/2019 11:50 AM', '23.2° C'),\n",
       "  ('05/28/2019 11:40 AM', '23.2° C'),\n",
       "  ('05/28/2019 11:30 AM', '23.2° C'),\n",
       "  ('05/28/2019 11:20 AM', '23.3° C'),\n",
       "  ('05/28/2019 11:10 AM', '23.3° C'),\n",
       "  ('05/28/2019 11:00 AM', '23.4° C'),\n",
       "  ('05/28/2019 10:50 AM', '23.4° C'),\n",
       "  ('05/28/2019 10:40 AM', '23.5° C'),\n",
       "  ('05/28/2019 10:30 AM', '23.4° C'),\n",
       "  ('05/28/2019 10:20 AM', '23.5° C'),\n",
       "  ('05/28/2019 10:10 AM', '23.6° C'),\n",
       "  ('05/28/2019 10:00 AM', '23.7° C'),\n",
       "  ('05/28/2019 9:50 AM', '23.7° C'),\n",
       "  ('05/28/2019 9:40 AM', '23.8° C'),\n",
       "  ('05/28/2019 9:30 AM', '23.9° C'),\n",
       "  ('05/28/2019 9:30 AM', '23.9° C'),\n",
       "  ('05/28/2019 9:29 AM', '23.9° C'),\n",
       "  ('05/28/2019 9:29 AM', '23.9° C'),\n",
       "  ('05/27/2019 5:21 PM', '22.6° C'),\n",
       "  ('05/27/2019 5:11 PM', '22.7° C'),\n",
       "  ('05/27/2019 5:01 PM', '22.6° C'),\n",
       "  ('05/27/2019 4:51 PM', '22.7° C'),\n",
       "  ('05/27/2019 4:41 PM', '22.7° C'),\n",
       "  ('05/27/2019 4:31 PM', '22.7° C'),\n",
       "  ('05/27/2019 4:21 PM', '22.8° C'),\n",
       "  ('05/27/2019 4:11 PM', '22.9° C'),\n",
       "  ('05/27/2019 4:01 PM', '23° C'),\n",
       "  ('05/27/2019 3:51 PM', '23° C'),\n",
       "  ('05/27/2019 3:41 PM', '23.1° C'),\n",
       "  ('05/27/2019 3:31 PM', '23.1° C'),\n",
       "  ('05/27/2019 3:21 PM', '23.2° C'),\n",
       "  ('05/27/2019 3:11 PM', '23.2° C'),\n",
       "  ('05/27/2019 3:01 PM', '23.2° C'),\n",
       "  ('05/27/2019 2:51 PM', '23.3° C'),\n",
       "  ('05/27/2019 2:41 PM', '23.4° C'),\n",
       "  ('05/27/2019 2:31 PM', '23.6° C'),\n",
       "  ('05/27/2019 2:21 PM', '23.4° C'),\n",
       "  ('05/27/2019 2:11 PM', '23.5° C'),\n",
       "  ('05/27/2019 2:01 PM', '23.6° C'),\n",
       "  ('05/27/2019 1:51 PM', '23.5° C'),\n",
       "  ('05/27/2019 1:41 PM', '23.7° C'),\n",
       "  ('05/27/2019 1:31 PM', '23.7° C'),\n",
       "  ('05/27/2019 1:21 PM', '23.7° C'),\n",
       "  ('05/27/2019 1:11 PM', '23.7° C'),\n",
       "  ('05/27/2019 1:01 PM', '23.7° C'),\n",
       "  ('05/27/2019 12:51 PM', '23.7° C'),\n",
       "  ('05/27/2019 12:41 PM', '23.7° C'),\n",
       "  ('05/27/2019 12:31 PM', '23.8° C'),\n",
       "  ('05/27/2019 12:21 PM', '23.8° C'),\n",
       "  ('05/27/2019 12:11 PM', '24.1° C'),\n",
       "  ('05/27/2019 12:01 PM', '24.2° C'),\n",
       "  ('05/27/2019 11:51 AM', '24.3° C'),\n",
       "  ('05/27/2019 11:41 AM', '24.2° C'),\n",
       "  ('05/27/2019 11:31 AM', '24.2° C'),\n",
       "  ('05/27/2019 11:21 AM', '24.2° C'),\n",
       "  ('05/27/2019 11:11 AM', '24.3° C'),\n",
       "  ('05/27/2019 11:01 AM', '24.3° C'),\n",
       "  ('05/27/2019 10:51 AM', '24.2° C'),\n",
       "  ('05/27/2019 10:41 AM', '24° C'),\n",
       "  ('05/27/2019 10:32 AM', '23.9° C'),\n",
       "  ('05/27/2019 10:22 AM', '23.6° C'),\n",
       "  ('05/27/2019 10:12 AM', '23.4° C'),\n",
       "  ('05/27/2019 10:02 AM', '23.5° C'),\n",
       "  ('05/27/2019 10:01 AM', '23.5° C'),\n",
       "  ('05/27/2019 10:01 AM', '23.5° C'),\n",
       "  ('05/27/2019 10:00 AM', '23.6° C')],\n",
       " '488939': [('05/27/2019 5:18 PM', 'Light'),\n",
       "  ('05/27/2019 5:08 PM', 'Light'),\n",
       "  ('05/27/2019 4:58 PM', 'Light'),\n",
       "  ('05/27/2019 4:48 PM', 'Light'),\n",
       "  ('05/27/2019 4:38 PM', 'Light'),\n",
       "  ('05/27/2019 4:28 PM', 'Light'),\n",
       "  ('05/27/2019 4:18 PM', 'Light'),\n",
       "  ('05/27/2019 4:08 PM', 'Light'),\n",
       "  ('05/27/2019 3:58 PM', 'Light'),\n",
       "  ('05/27/2019 3:48 PM', 'Light'),\n",
       "  ('05/27/2019 3:38 PM', 'Light'),\n",
       "  ('05/27/2019 3:28 PM', 'Light'),\n",
       "  ('05/27/2019 3:18 PM', 'Light'),\n",
       "  ('05/27/2019 3:08 PM', 'Light'),\n",
       "  ('05/27/2019 2:58 PM', 'Light'),\n",
       "  ('05/27/2019 2:48 PM', 'Light'),\n",
       "  ('05/27/2019 2:38 PM', 'Light'),\n",
       "  ('05/27/2019 2:28 PM', 'Light'),\n",
       "  ('05/27/2019 2:18 PM', 'Light'),\n",
       "  ('05/27/2019 2:08 PM', 'Light'),\n",
       "  ('05/27/2019 1:58 PM', 'Light'),\n",
       "  ('05/27/2019 1:48 PM', 'Light'),\n",
       "  ('05/27/2019 1:38 PM', 'Light'),\n",
       "  ('05/27/2019 1:28 PM', 'Light'),\n",
       "  ('05/27/2019 1:18 PM', 'Light'),\n",
       "  ('05/27/2019 1:08 PM', 'Light'),\n",
       "  ('05/27/2019 12:58 PM', 'Light'),\n",
       "  ('05/27/2019 12:48 PM', 'Light'),\n",
       "  ('05/27/2019 12:38 PM', 'Light'),\n",
       "  ('05/27/2019 12:28 PM', 'Light'),\n",
       "  ('05/27/2019 12:18 PM', 'Light'),\n",
       "  ('05/27/2019 12:08 PM', 'Light'),\n",
       "  ('05/27/2019 11:58 AM', 'Light'),\n",
       "  ('05/27/2019 11:48 AM', 'Light'),\n",
       "  ('05/27/2019 11:38 AM', 'Light'),\n",
       "  ('05/27/2019 11:28 AM', 'Light'),\n",
       "  ('05/27/2019 11:18 AM', 'Light'),\n",
       "  ('05/27/2019 11:08 AM', 'Light'),\n",
       "  ('05/27/2019 10:58 AM', 'Light'),\n",
       "  ('05/27/2019 10:48 AM', 'Light'),\n",
       "  ('05/27/2019 10:38 AM', 'Light'),\n",
       "  ('05/27/2019 10:28 AM', 'Light'),\n",
       "  ('05/27/2019 10:18 AM', 'Light'),\n",
       "  ('05/27/2019 10:08 AM', 'Light'),\n",
       "  ('05/27/2019 10:07 AM', 'Light'),\n",
       "  ('05/27/2019 10:07 AM', 'Light'),\n",
       "  ('05/27/2019 10:06 AM', 'Light'),\n",
       "  ('05/24/2019 5:37 PM', 'No Light'),\n",
       "  ('05/24/2019 5:27 PM', 'No Light'),\n",
       "  ('05/24/2019 5:17 PM', 'No Light'),\n",
       "  ('05/24/2019 5:07 PM', 'No Light'),\n",
       "  ('05/24/2019 4:57 PM', 'No Light'),\n",
       "  ('05/24/2019 4:47 PM', 'No Light'),\n",
       "  ('05/24/2019 4:37 PM', 'No Light'),\n",
       "  ('05/24/2019 4:27 PM', 'No Light'),\n",
       "  ('05/24/2019 4:17 PM', 'No Light'),\n",
       "  ('05/24/2019 4:07 PM', 'No Light'),\n",
       "  ('05/24/2019 3:57 PM', 'No Light'),\n",
       "  ('05/24/2019 3:47 PM', 'No Light'),\n",
       "  ('05/24/2019 3:37 PM', 'No Light'),\n",
       "  ('05/24/2019 3:27 PM', 'No Light'),\n",
       "  ('05/24/2019 3:17 PM', 'Light'),\n",
       "  ('05/24/2019 3:07 PM', 'Light'),\n",
       "  ('05/24/2019 2:57 PM', 'No Light'),\n",
       "  ('05/24/2019 2:47 PM', 'No Light'),\n",
       "  ('05/24/2019 2:37 PM', 'No Light'),\n",
       "  ('05/24/2019 2:27 PM', 'Light'),\n",
       "  ('05/24/2019 2:17 PM', 'Light'),\n",
       "  ('05/24/2019 2:07 PM', 'No Light'),\n",
       "  ('05/24/2019 1:57 PM', 'No Light'),\n",
       "  ('05/24/2019 1:47 PM', 'No Light'),\n",
       "  ('05/24/2019 1:37 PM', 'No Light'),\n",
       "  ('05/24/2019 1:27 PM', 'No Light'),\n",
       "  ('05/24/2019 1:17 PM', 'No Light'),\n",
       "  ('05/24/2019 1:07 PM', 'No Light'),\n",
       "  ('05/24/2019 12:57 PM', 'Light'),\n",
       "  ('05/24/2019 12:47 PM', 'Light'),\n",
       "  ('05/24/2019 12:37 PM', 'Light'),\n",
       "  ('05/24/2019 12:27 PM', 'Light'),\n",
       "  ('05/24/2019 12:17 PM', 'Light'),\n",
       "  ('05/24/2019 12:07 PM', 'Light'),\n",
       "  ('05/24/2019 11:57 AM', 'Light'),\n",
       "  ('05/24/2019 11:47 AM', 'Light'),\n",
       "  ('05/24/2019 11:37 AM', 'Light'),\n",
       "  ('05/24/2019 11:27 AM', 'Light'),\n",
       "  ('05/24/2019 11:17 AM', 'Light'),\n",
       "  ('05/24/2019 11:07 AM', 'Light'),\n",
       "  ('05/24/2019 10:57 AM', 'Light'),\n",
       "  ('05/24/2019 10:47 AM', 'Light'),\n",
       "  ('05/24/2019 10:37 AM', 'Light'),\n",
       "  ('05/24/2019 10:27 AM', 'Light'),\n",
       "  ('05/24/2019 10:17 AM', 'Light'),\n",
       "  ('05/24/2019 10:07 AM', 'Light'),\n",
       "  ('05/24/2019 9:57 AM', 'Light'),\n",
       "  ('05/24/2019 9:47 AM', 'Light'),\n",
       "  ('05/24/2019 9:37 AM', 'Light'),\n",
       "  ('05/24/2019 9:27 AM', 'Light'),\n",
       "  ('05/24/2019 9:17 AM', 'Light'),\n",
       "  ('05/24/2019 9:07 AM', 'Light'),\n",
       "  ('05/24/2019 8:57 AM', 'Light')]}"
      ]
     },
     "execution_count": 19,
     "metadata": {},
     "output_type": "execute_result"
    }
   ],
   "source": [
    "dictionaryOfData"
   ]
  },
  {
   "cell_type": "code",
   "execution_count": 14,
   "metadata": {},
   "outputs": [],
   "source": [
    "# Save to dictionary using id as key and a (array) as value\n",
    "dictionaryOfData[ID] = a\n",
    "list = len(dictionaryOfData[ID])"
   ]
  },
  {
   "cell_type": "markdown",
   "metadata": {},
   "source": [
    "<p>For now, when getting data every n minutes, we only need the latest data and or depending on the data currently present in the API server.</p>"
   ]
  },
  {
   "cell_type": "code",
   "execution_count": 16,
   "metadata": {
    "scrolled": true
   },
   "outputs": [
    {
     "data": {
      "text/plain": [
       "[('05/28/2019 5:30 PM', '24.1° C'),\n",
       " ('05/28/2019 5:20 PM', '24.1° C'),\n",
       " ('05/28/2019 5:10 PM', '24.1° C'),\n",
       " ('05/28/2019 5:00 PM', '23.7° C'),\n",
       " ('05/28/2019 4:50 PM', '23.5° C'),\n",
       " ('05/28/2019 4:40 PM', '23.6° C'),\n",
       " ('05/28/2019 4:30 PM', '23.7° C'),\n",
       " ('05/28/2019 4:20 PM', '23.8° C'),\n",
       " ('05/28/2019 4:10 PM', '23.8° C'),\n",
       " ('05/28/2019 4:00 PM', '23.8° C'),\n",
       " ('05/28/2019 3:50 PM', '23.9° C'),\n",
       " ('05/28/2019 3:40 PM', '23.9° C'),\n",
       " ('05/28/2019 3:30 PM', '24.1° C'),\n",
       " ('05/28/2019 3:20 PM', '24.1° C'),\n",
       " ('05/28/2019 3:10 PM', '24.2° C'),\n",
       " ('05/28/2019 3:00 PM', '24° C'),\n",
       " ('05/28/2019 2:50 PM', '24° C'),\n",
       " ('05/28/2019 2:40 PM', '24° C'),\n",
       " ('05/28/2019 2:30 PM', '24° C'),\n",
       " ('05/28/2019 2:20 PM', '24° C'),\n",
       " ('05/28/2019 2:10 PM', '23.9° C'),\n",
       " ('05/28/2019 2:00 PM', '23.9° C'),\n",
       " ('05/28/2019 1:50 PM', '24° C'),\n",
       " ('05/28/2019 1:40 PM', '24° C'),\n",
       " ('05/28/2019 1:30 PM', '23.9° C'),\n",
       " ('05/28/2019 1:20 PM', '23.9° C'),\n",
       " ('05/28/2019 1:10 PM', '24° C'),\n",
       " ('05/28/2019 1:00 PM', '23.9° C'),\n",
       " ('05/28/2019 12:50 PM', '23.9° C'),\n",
       " ('05/28/2019 12:40 PM', '23.9° C'),\n",
       " ('05/28/2019 12:30 PM', '23.8° C'),\n",
       " ('05/28/2019 12:20 PM', '23.1° C'),\n",
       " ('05/28/2019 12:10 PM', '23.1° C'),\n",
       " ('05/28/2019 12:00 PM', '23.1° C'),\n",
       " ('05/28/2019 11:50 AM', '23.2° C'),\n",
       " ('05/28/2019 11:40 AM', '23.2° C'),\n",
       " ('05/28/2019 11:30 AM', '23.2° C'),\n",
       " ('05/28/2019 11:20 AM', '23.3° C'),\n",
       " ('05/28/2019 11:10 AM', '23.3° C'),\n",
       " ('05/28/2019 11:00 AM', '23.4° C'),\n",
       " ('05/28/2019 10:50 AM', '23.4° C'),\n",
       " ('05/28/2019 10:40 AM', '23.5° C'),\n",
       " ('05/28/2019 10:30 AM', '23.4° C'),\n",
       " ('05/28/2019 10:20 AM', '23.5° C'),\n",
       " ('05/28/2019 10:10 AM', '23.6° C'),\n",
       " ('05/28/2019 10:00 AM', '23.7° C'),\n",
       " ('05/28/2019 9:50 AM', '23.7° C'),\n",
       " ('05/28/2019 9:40 AM', '23.8° C'),\n",
       " ('05/28/2019 9:30 AM', '23.9° C'),\n",
       " ('05/28/2019 9:30 AM', '23.9° C'),\n",
       " ('05/28/2019 9:29 AM', '23.9° C'),\n",
       " ('05/28/2019 9:29 AM', '23.9° C'),\n",
       " ('05/27/2019 5:21 PM', '22.6° C'),\n",
       " ('05/27/2019 5:11 PM', '22.7° C'),\n",
       " ('05/27/2019 5:01 PM', '22.6° C'),\n",
       " ('05/27/2019 4:51 PM', '22.7° C'),\n",
       " ('05/27/2019 4:41 PM', '22.7° C'),\n",
       " ('05/27/2019 4:31 PM', '22.7° C'),\n",
       " ('05/27/2019 4:21 PM', '22.8° C'),\n",
       " ('05/27/2019 4:11 PM', '22.9° C'),\n",
       " ('05/27/2019 4:01 PM', '23° C'),\n",
       " ('05/27/2019 3:51 PM', '23° C'),\n",
       " ('05/27/2019 3:41 PM', '23.1° C'),\n",
       " ('05/27/2019 3:31 PM', '23.1° C'),\n",
       " ('05/27/2019 3:21 PM', '23.2° C'),\n",
       " ('05/27/2019 3:11 PM', '23.2° C'),\n",
       " ('05/27/2019 3:01 PM', '23.2° C'),\n",
       " ('05/27/2019 2:51 PM', '23.3° C'),\n",
       " ('05/27/2019 2:41 PM', '23.4° C'),\n",
       " ('05/27/2019 2:31 PM', '23.6° C'),\n",
       " ('05/27/2019 2:21 PM', '23.4° C'),\n",
       " ('05/27/2019 2:11 PM', '23.5° C'),\n",
       " ('05/27/2019 2:01 PM', '23.6° C'),\n",
       " ('05/27/2019 1:51 PM', '23.5° C'),\n",
       " ('05/27/2019 1:41 PM', '23.7° C'),\n",
       " ('05/27/2019 1:31 PM', '23.7° C'),\n",
       " ('05/27/2019 1:21 PM', '23.7° C'),\n",
       " ('05/27/2019 1:11 PM', '23.7° C'),\n",
       " ('05/27/2019 1:01 PM', '23.7° C'),\n",
       " ('05/27/2019 12:51 PM', '23.7° C'),\n",
       " ('05/27/2019 12:41 PM', '23.7° C'),\n",
       " ('05/27/2019 12:31 PM', '23.8° C'),\n",
       " ('05/27/2019 12:21 PM', '23.8° C'),\n",
       " ('05/27/2019 12:11 PM', '24.1° C'),\n",
       " ('05/27/2019 12:01 PM', '24.2° C'),\n",
       " ('05/27/2019 11:51 AM', '24.3° C'),\n",
       " ('05/27/2019 11:41 AM', '24.2° C'),\n",
       " ('05/27/2019 11:31 AM', '24.2° C'),\n",
       " ('05/27/2019 11:21 AM', '24.2° C'),\n",
       " ('05/27/2019 11:11 AM', '24.3° C'),\n",
       " ('05/27/2019 11:01 AM', '24.3° C'),\n",
       " ('05/27/2019 10:51 AM', '24.2° C'),\n",
       " ('05/27/2019 10:41 AM', '24° C'),\n",
       " ('05/27/2019 10:32 AM', '23.9° C'),\n",
       " ('05/27/2019 10:22 AM', '23.6° C'),\n",
       " ('05/27/2019 10:12 AM', '23.4° C'),\n",
       " ('05/27/2019 10:02 AM', '23.5° C'),\n",
       " ('05/27/2019 10:01 AM', '23.5° C'),\n",
       " ('05/27/2019 10:01 AM', '23.5° C'),\n",
       " ('05/27/2019 10:00 AM', '23.6° C')]"
      ]
     },
     "execution_count": 16,
     "metadata": {},
     "output_type": "execute_result"
    }
   ],
   "source": [
    "dictionaryOfData[\"488933\"]"
   ]
  },
  {
   "cell_type": "code",
   "execution_count": 21,
   "metadata": {},
   "outputs": [],
   "source": [
    "i=0\n",
    "\n",
    "#list = 6\n",
    "while (i < list):\n",
    "    curVal = dictionaryOfData[\"488933\"][i]\n",
    "    data = {\"dateRead\":curVal[0],\"reading\":curVal[1]}\n",
    "    #print(data)\n",
    "    try:\n",
    "        r=requests.post(apiUrl,auth=auth,data=data) # POST method\n",
    "    except:\n",
    "        print(\"Already exists..maybe?\")\n",
    "    i += 1\n"
   ]
  },
  {
   "cell_type": "code",
   "execution_count": 23,
   "metadata": {},
   "outputs": [
    {
     "data": {
      "text/plain": [
       "<Response [500]>"
      ]
     },
     "execution_count": 23,
     "metadata": {},
     "output_type": "execute_result"
    }
   ],
   "source": [
    "\n",
    "r"
   ]
  },
  {
   "cell_type": "code",
   "execution_count": null,
   "metadata": {},
   "outputs": [],
   "source": []
  }
 ],
 "metadata": {
  "kernelspec": {
   "display_name": "Python 3",
   "language": "python",
   "name": "python3"
  },
  "language_info": {
   "codemirror_mode": {
    "name": "ipython",
    "version": 3
   },
   "file_extension": ".py",
   "mimetype": "text/x-python",
   "name": "python",
   "nbconvert_exporter": "python",
   "pygments_lexer": "ipython3",
   "version": "3.7.3"
  },
  "varInspector": {
   "cols": {
    "lenName": 16,
    "lenType": 16,
    "lenVar": 40
   },
   "kernels_config": {
    "python": {
     "delete_cmd_postfix": "",
     "delete_cmd_prefix": "del ",
     "library": "var_list.py",
     "varRefreshCmd": "print(var_dic_list())"
    },
    "r": {
     "delete_cmd_postfix": ") ",
     "delete_cmd_prefix": "rm(",
     "library": "var_list.r",
     "varRefreshCmd": "cat(var_dic_list()) "
    }
   },
   "types_to_exclude": [
    "module",
    "function",
    "builtin_function_or_method",
    "instance",
    "_Feature"
   ],
   "window_display": false
  }
 },
 "nbformat": 4,
 "nbformat_minor": 2
}
